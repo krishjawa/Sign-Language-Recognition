{
 "cells": [
  {
   "cell_type": "code",
   "execution_count": 47,
   "metadata": {},
   "outputs": [
    {
     "name": "stdout",
     "output_type": "stream",
     "text": [
      "Requirement already satisfied: numpy in c:\\users\\vedan\\appdata\\roaming\\python\\python311\\site-packages (1.26.0)\n",
      "Note: you may need to restart the kernel to use updated packages.\n",
      "Requirement already satisfied: tensorflow in c:\\users\\vedan\\appdata\\roaming\\python\\python311\\site-packages (2.14.0)\n",
      "Requirement already satisfied: tensorflow-intel==2.14.0 in c:\\users\\vedan\\appdata\\roaming\\python\\python311\\site-packages (from tensorflow) (2.14.0)\n",
      "Requirement already satisfied: absl-py>=1.0.0 in c:\\users\\vedan\\appdata\\roaming\\python\\python311\\site-packages (from tensorflow-intel==2.14.0->tensorflow) (2.0.0)\n",
      "Requirement already satisfied: astunparse>=1.6.0 in c:\\users\\vedan\\appdata\\roaming\\python\\python311\\site-packages (from tensorflow-intel==2.14.0->tensorflow) (1.6.3)\n",
      "Requirement already satisfied: flatbuffers>=23.5.26 in c:\\users\\vedan\\appdata\\roaming\\python\\python311\\site-packages (from tensorflow-intel==2.14.0->tensorflow) (23.5.26)\n",
      "Requirement already satisfied: gast!=0.5.0,!=0.5.1,!=0.5.2,>=0.2.1 in c:\\users\\vedan\\appdata\\roaming\\python\\python311\\site-packages (from tensorflow-intel==2.14.0->tensorflow) (0.5.4)\n",
      "Requirement already satisfied: google-pasta>=0.1.1 in c:\\users\\vedan\\appdata\\roaming\\python\\python311\\site-packages (from tensorflow-intel==2.14.0->tensorflow) (0.2.0)\n",
      "Requirement already satisfied: h5py>=2.9.0 in c:\\users\\vedan\\appdata\\roaming\\python\\python311\\site-packages (from tensorflow-intel==2.14.0->tensorflow) (3.10.0)\n",
      "Requirement already satisfied: libclang>=13.0.0 in c:\\users\\vedan\\appdata\\roaming\\python\\python311\\site-packages (from tensorflow-intel==2.14.0->tensorflow) (16.0.6)\n",
      "Requirement already satisfied: ml-dtypes==0.2.0 in c:\\users\\vedan\\appdata\\roaming\\python\\python311\\site-packages (from tensorflow-intel==2.14.0->tensorflow) (0.2.0)\n",
      "Requirement already satisfied: numpy>=1.23.5 in c:\\users\\vedan\\appdata\\roaming\\python\\python311\\site-packages (from tensorflow-intel==2.14.0->tensorflow) (1.26.0)\n",
      "Requirement already satisfied: opt-einsum>=2.3.2 in c:\\users\\vedan\\appdata\\roaming\\python\\python311\\site-packages (from tensorflow-intel==2.14.0->tensorflow) (3.3.0)\n",
      "Requirement already satisfied: packaging in c:\\users\\vedan\\appdata\\roaming\\python\\python311\\site-packages (from tensorflow-intel==2.14.0->tensorflow) (23.1)\n",
      "Requirement already satisfied: protobuf!=4.21.0,!=4.21.1,!=4.21.2,!=4.21.3,!=4.21.4,!=4.21.5,<5.0.0dev,>=3.20.3 in c:\\users\\vedan\\appdata\\local\\programs\\python\\python311\\lib\\site-packages (from tensorflow-intel==2.14.0->tensorflow) (3.20.3)\n",
      "Requirement already satisfied: setuptools in c:\\users\\vedan\\appdata\\local\\programs\\python\\python311\\lib\\site-packages (from tensorflow-intel==2.14.0->tensorflow) (65.5.0)\n",
      "Requirement already satisfied: six>=1.12.0 in c:\\users\\vedan\\appdata\\roaming\\python\\python311\\site-packages (from tensorflow-intel==2.14.0->tensorflow) (1.16.0)\n",
      "Requirement already satisfied: termcolor>=1.1.0 in c:\\users\\vedan\\appdata\\roaming\\python\\python311\\site-packages (from tensorflow-intel==2.14.0->tensorflow) (2.3.0)\n",
      "Requirement already satisfied: typing-extensions>=3.6.6 in c:\\users\\vedan\\appdata\\roaming\\python\\python311\\site-packages (from tensorflow-intel==2.14.0->tensorflow) (4.8.0)\n",
      "Requirement already satisfied: wrapt<1.15,>=1.11.0 in c:\\users\\vedan\\appdata\\roaming\\python\\python311\\site-packages (from tensorflow-intel==2.14.0->tensorflow) (1.14.1)\n",
      "Requirement already satisfied: tensorflow-io-gcs-filesystem>=0.23.1 in c:\\users\\vedan\\appdata\\roaming\\python\\python311\\site-packages (from tensorflow-intel==2.14.0->tensorflow) (0.31.0)\n",
      "Requirement already satisfied: grpcio<2.0,>=1.24.3 in c:\\users\\vedan\\appdata\\roaming\\python\\python311\\site-packages (from tensorflow-intel==2.14.0->tensorflow) (1.59.0)\n",
      "Requirement already satisfied: tensorboard<2.15,>=2.14 in c:\\users\\vedan\\appdata\\roaming\\python\\python311\\site-packages (from tensorflow-intel==2.14.0->tensorflow) (2.14.1)\n",
      "Requirement already satisfied: tensorflow-estimator<2.15,>=2.14.0 in c:\\users\\vedan\\appdata\\roaming\\python\\python311\\site-packages (from tensorflow-intel==2.14.0->tensorflow) (2.14.0)\n",
      "Requirement already satisfied: keras<2.15,>=2.14.0 in c:\\users\\vedan\\appdata\\roaming\\python\\python311\\site-packages (from tensorflow-intel==2.14.0->tensorflow) (2.14.0)\n",
      "Requirement already satisfied: wheel<1.0,>=0.23.0 in c:\\users\\vedan\\appdata\\roaming\\python\\python311\\site-packages (from astunparse>=1.6.0->tensorflow-intel==2.14.0->tensorflow) (0.41.2)\n",
      "Requirement already satisfied: google-auth<3,>=1.6.3 in c:\\users\\vedan\\appdata\\roaming\\python\\python311\\site-packages (from tensorboard<2.15,>=2.14->tensorflow-intel==2.14.0->tensorflow) (2.23.3)\n",
      "Requirement already satisfied: google-auth-oauthlib<1.1,>=0.5 in c:\\users\\vedan\\appdata\\roaming\\python\\python311\\site-packages (from tensorboard<2.15,>=2.14->tensorflow-intel==2.14.0->tensorflow) (1.0.0)\n",
      "Requirement already satisfied: markdown>=2.6.8 in c:\\users\\vedan\\appdata\\roaming\\python\\python311\\site-packages (from tensorboard<2.15,>=2.14->tensorflow-intel==2.14.0->tensorflow) (3.5)\n",
      "Requirement already satisfied: requests<3,>=2.21.0 in c:\\users\\vedan\\appdata\\roaming\\python\\python311\\site-packages (from tensorboard<2.15,>=2.14->tensorflow-intel==2.14.0->tensorflow) (2.31.0)\n",
      "Requirement already satisfied: tensorboard-data-server<0.8.0,>=0.7.0 in c:\\users\\vedan\\appdata\\roaming\\python\\python311\\site-packages (from tensorboard<2.15,>=2.14->tensorflow-intel==2.14.0->tensorflow) (0.7.1)\n",
      "Requirement already satisfied: werkzeug>=1.0.1 in c:\\users\\vedan\\appdata\\roaming\\python\\python311\\site-packages (from tensorboard<2.15,>=2.14->tensorflow-intel==2.14.0->tensorflow) (3.0.0)\n",
      "Requirement already satisfied: cachetools<6.0,>=2.0.0 in c:\\users\\vedan\\appdata\\roaming\\python\\python311\\site-packages (from google-auth<3,>=1.6.3->tensorboard<2.15,>=2.14->tensorflow-intel==2.14.0->tensorflow) (5.3.1)\n",
      "Requirement already satisfied: pyasn1-modules>=0.2.1 in c:\\users\\vedan\\appdata\\roaming\\python\\python311\\site-packages (from google-auth<3,>=1.6.3->tensorboard<2.15,>=2.14->tensorflow-intel==2.14.0->tensorflow) (0.3.0)\n",
      "Requirement already satisfied: rsa<5,>=3.1.4 in c:\\users\\vedan\\appdata\\roaming\\python\\python311\\site-packages (from google-auth<3,>=1.6.3->tensorboard<2.15,>=2.14->tensorflow-intel==2.14.0->tensorflow) (4.9)\n",
      "Requirement already satisfied: requests-oauthlib>=0.7.0 in c:\\users\\vedan\\appdata\\roaming\\python\\python311\\site-packages (from google-auth-oauthlib<1.1,>=0.5->tensorboard<2.15,>=2.14->tensorflow-intel==2.14.0->tensorflow) (1.3.1)\n",
      "Requirement already satisfied: charset-normalizer<4,>=2 in c:\\users\\vedan\\appdata\\roaming\\python\\python311\\site-packages (from requests<3,>=2.21.0->tensorboard<2.15,>=2.14->tensorflow-intel==2.14.0->tensorflow) (3.3.0)\n",
      "Requirement already satisfied: idna<4,>=2.5 in c:\\users\\vedan\\appdata\\roaming\\python\\python311\\site-packages (from requests<3,>=2.21.0->tensorboard<2.15,>=2.14->tensorflow-intel==2.14.0->tensorflow) (3.4)\n",
      "Requirement already satisfied: urllib3<3,>=1.21.1 in c:\\users\\vedan\\appdata\\roaming\\python\\python311\\site-packages (from requests<3,>=2.21.0->tensorboard<2.15,>=2.14->tensorflow-intel==2.14.0->tensorflow) (2.0.6)\n",
      "Requirement already satisfied: certifi>=2017.4.17 in c:\\users\\vedan\\appdata\\roaming\\python\\python311\\site-packages (from requests<3,>=2.21.0->tensorboard<2.15,>=2.14->tensorflow-intel==2.14.0->tensorflow) (2023.7.22)\n",
      "Requirement already satisfied: MarkupSafe>=2.1.1 in c:\\users\\vedan\\appdata\\roaming\\python\\python311\\site-packages (from werkzeug>=1.0.1->tensorboard<2.15,>=2.14->tensorflow-intel==2.14.0->tensorflow) (2.1.3)\n",
      "Requirement already satisfied: pyasn1<0.6.0,>=0.4.6 in c:\\users\\vedan\\appdata\\roaming\\python\\python311\\site-packages (from pyasn1-modules>=0.2.1->google-auth<3,>=1.6.3->tensorboard<2.15,>=2.14->tensorflow-intel==2.14.0->tensorflow) (0.5.0)\n",
      "Requirement already satisfied: oauthlib>=3.0.0 in c:\\users\\vedan\\appdata\\roaming\\python\\python311\\site-packages (from requests-oauthlib>=0.7.0->google-auth-oauthlib<1.1,>=0.5->tensorboard<2.15,>=2.14->tensorflow-intel==2.14.0->tensorflow) (3.2.2)\n",
      "Note: you may need to restart the kernel to use updated packages.\n",
      "Requirement already satisfied: scikit-learn in c:\\users\\vedan\\appdata\\roaming\\python\\python311\\site-packages (1.3.1)\n",
      "Requirement already satisfied: numpy<2.0,>=1.17.3 in c:\\users\\vedan\\appdata\\roaming\\python\\python311\\site-packages (from scikit-learn) (1.26.0)\n",
      "Requirement already satisfied: scipy>=1.5.0 in c:\\users\\vedan\\appdata\\roaming\\python\\python311\\site-packages (from scikit-learn) (1.11.3)\n",
      "Requirement already satisfied: joblib>=1.1.1 in c:\\users\\vedan\\appdata\\roaming\\python\\python311\\site-packages (from scikit-learn) (1.3.2)\n",
      "Requirement already satisfied: threadpoolctl>=2.0.0 in c:\\users\\vedan\\appdata\\roaming\\python\\python311\\site-packages (from scikit-learn) (3.2.0)\n",
      "Note: you may need to restart the kernel to use updated packages.\n"
     ]
    }
   ],
   "source": [
    "%pip install numpy\n",
    "%pip install tensorflow\n",
    "%pip install scikit-learn"
   ]
  },
  {
   "cell_type": "code",
   "execution_count": 48,
   "metadata": {},
   "outputs": [],
   "source": [
    "import csv\n",
    "\n",
    "import numpy as np\n",
    "import tensorflow as tf\n",
    "from sklearn.model_selection import train_test_split\n",
    "\n",
    "RANDOM_SEED = 42"
   ]
  },
  {
   "cell_type": "markdown",
   "metadata": {},
   "source": [
    "# 各パス指定"
   ]
  },
  {
   "cell_type": "code",
   "execution_count": 49,
   "metadata": {},
   "outputs": [],
   "source": [
    "dataset = 'model/keypoint_classifier/keypoint.csv'\n",
    "model_save_path = 'model/keypoint_classifier/keypoint_classifier.hdf5'"
   ]
  },
  {
   "cell_type": "markdown",
   "metadata": {},
   "source": [
    "# 分類数設定"
   ]
  },
  {
   "cell_type": "code",
   "execution_count": 50,
   "metadata": {},
   "outputs": [],
   "source": [
    "NUM_CLASSES = 10"
   ]
  },
  {
   "cell_type": "markdown",
   "metadata": {},
   "source": [
    "# 学習データ読み込み"
   ]
  },
  {
   "cell_type": "code",
   "execution_count": 51,
   "metadata": {},
   "outputs": [],
   "source": [
    "X_dataset = np.loadtxt(dataset, delimiter=',', dtype='float32', usecols=list(range(1, (21 * 2) + 1)))"
   ]
  },
  {
   "cell_type": "code",
   "execution_count": 52,
   "metadata": {},
   "outputs": [],
   "source": [
    "y_dataset = np.loadtxt(dataset, delimiter=',', dtype='int32', usecols=(0))"
   ]
  },
  {
   "cell_type": "code",
   "execution_count": 53,
   "metadata": {},
   "outputs": [],
   "source": [
    "X_train, X_test, y_train, y_test = train_test_split(X_dataset, y_dataset, train_size=0.75, random_state=RANDOM_SEED)"
   ]
  },
  {
   "cell_type": "markdown",
   "metadata": {},
   "source": [
    "# モデル構築"
   ]
  },
  {
   "cell_type": "code",
   "execution_count": 54,
   "metadata": {},
   "outputs": [],
   "source": [
    "model = tf.keras.models.Sequential([\n",
    "    tf.keras.layers.Input((21 * 2, )),\n",
    "    tf.keras.layers.Dropout(0.2),\n",
    "    tf.keras.layers.Dense(20, activation='relu'),\n",
    "    tf.keras.layers.Dropout(0.4),\n",
    "    tf.keras.layers.Dense(10, activation='relu'),\n",
    "    tf.keras.layers.Dense(NUM_CLASSES, activation='softmax')\n",
    "])"
   ]
  },
  {
   "cell_type": "code",
   "execution_count": 55,
   "metadata": {},
   "outputs": [
    {
     "name": "stdout",
     "output_type": "stream",
     "text": [
      "Model: \"sequential_2\"\n",
      "_________________________________________________________________\n",
      " Layer (type)                Output Shape              Param #   \n",
      "=================================================================\n",
      " dropout_4 (Dropout)         (None, 42)                0         \n",
      "                                                                 \n",
      " dense_6 (Dense)             (None, 20)                860       \n",
      "                                                                 \n",
      " dropout_5 (Dropout)         (None, 20)                0         \n",
      "                                                                 \n",
      " dense_7 (Dense)             (None, 10)                210       \n",
      "                                                                 \n",
      " dense_8 (Dense)             (None, 10)                110       \n",
      "                                                                 \n",
      "=================================================================\n",
      "Total params: 1180 (4.61 KB)\n",
      "Trainable params: 1180 (4.61 KB)\n",
      "Non-trainable params: 0 (0.00 Byte)\n",
      "_________________________________________________________________\n"
     ]
    }
   ],
   "source": [
    "model.summary()  # tf.keras.utils.plot_model(model, show_shapes=True)"
   ]
  },
  {
   "cell_type": "code",
   "execution_count": 56,
   "metadata": {},
   "outputs": [],
   "source": [
    "# モデルチェックポイントのコールバック\n",
    "cp_callback = tf.keras.callbacks.ModelCheckpoint(\n",
    "    model_save_path, verbose=1, save_weights_only=False)\n",
    "# 早期打ち切り用コールバック\n",
    "es_callback = tf.keras.callbacks.EarlyStopping(patience=20, verbose=1)"
   ]
  },
  {
   "cell_type": "code",
   "execution_count": 57,
   "metadata": {},
   "outputs": [],
   "source": [
    "# モデルコンパイル\n",
    "model.compile(\n",
    "    optimizer='adam',\n",
    "    loss='sparse_categorical_crossentropy',\n",
    "    metrics=['accuracy']\n",
    ")"
   ]
  },
  {
   "cell_type": "markdown",
   "metadata": {},
   "source": [
    "# モデル訓練"
   ]
  },
  {
   "cell_type": "code",
   "execution_count": null,
   "metadata": {
    "scrolled": true
   },
   "outputs": [
    {
     "name": "stdout",
     "output_type": "stream",
     "text": [
      "Epoch 1/1000\n",
      " 1/25 [>.............................] - ETA: 19s - loss: 2.3607 - accuracy: 0.1641\n",
      "Epoch 1: saving model to model/keypoint_classifier\\keypoint_classifier.hdf5\n",
      "25/25 [==============================] - 1s 11ms/step - loss: 2.3041 - accuracy: 0.1587 - val_loss: 2.2185 - val_accuracy: 0.2796\n",
      "Epoch 2/1000\n",
      " 1/25 [>.............................] - ETA: 0s - loss: 2.2567 - accuracy: 0.2109\n",
      "Epoch 2: saving model to model/keypoint_classifier\\keypoint_classifier.hdf5\n",
      "25/25 [==============================] - 0s 4ms/step - loss: 2.2287 - accuracy: 0.1994 - val_loss: 2.1631 - val_accuracy: 0.2834\n",
      "Epoch 3/1000\n",
      " 1/25 [>.............................] - ETA: 0s - loss: 2.2037 - accuracy: 0.2500"
     ]
    },
    {
     "name": "stderr",
     "output_type": "stream",
     "text": [
      "C:\\Users\\vedan\\AppData\\Roaming\\Python\\Python311\\site-packages\\keras\\src\\engine\\training.py:3079: UserWarning: You are saving your model as an HDF5 file via `model.save()`. This file format is considered legacy. We recommend using instead the native Keras format, e.g. `model.save('my_model.keras')`.\n",
      "  saving_api.save_model(\n"
     ]
    },
    {
     "name": "stdout",
     "output_type": "stream",
     "text": [
      "\n",
      "Epoch 3: saving model to model/keypoint_classifier\\keypoint_classifier.hdf5\n",
      "25/25 [==============================] - 0s 4ms/step - loss: 2.1844 - accuracy: 0.2010 - val_loss: 2.0940 - val_accuracy: 0.3292\n",
      "Epoch 4/1000\n",
      " 1/25 [>.............................] - ETA: 0s - loss: 2.0930 - accuracy: 0.2422\n",
      "Epoch 4: saving model to model/keypoint_classifier\\keypoint_classifier.hdf5\n",
      "25/25 [==============================] - 0s 4ms/step - loss: 2.1001 - accuracy: 0.2312 - val_loss: 1.9882 - val_accuracy: 0.4113\n",
      "Epoch 5/1000\n",
      " 1/25 [>.............................] - ETA: 0s - loss: 2.0901 - accuracy: 0.2109\n",
      "Epoch 5: saving model to model/keypoint_classifier\\keypoint_classifier.hdf5\n",
      "25/25 [==============================] - 0s 4ms/step - loss: 2.0182 - accuracy: 0.2618 - val_loss: 1.8786 - val_accuracy: 0.4122\n",
      "Epoch 6/1000\n",
      " 1/25 [>.............................] - ETA: 0s - loss: 2.0048 - accuracy: 0.2969\n",
      "Epoch 6: saving model to model/keypoint_classifier\\keypoint_classifier.hdf5\n",
      "25/25 [==============================] - 0s 4ms/step - loss: 1.9485 - accuracy: 0.2707 - val_loss: 1.7830 - val_accuracy: 0.4389\n",
      "Epoch 7/1000\n",
      " 1/25 [>.............................] - ETA: 0s - loss: 1.8501 - accuracy: 0.3438\n",
      "Epoch 7: saving model to model/keypoint_classifier\\keypoint_classifier.hdf5\n",
      "25/25 [==============================] - 0s 4ms/step - loss: 1.8567 - accuracy: 0.3069 - val_loss: 1.6895 - val_accuracy: 0.5086\n",
      "Epoch 8/1000\n",
      " 1/25 [>.............................] - ETA: 0s - loss: 1.8628 - accuracy: 0.2500\n",
      "Epoch 8: saving model to model/keypoint_classifier\\keypoint_classifier.hdf5\n",
      "25/25 [==============================] - 0s 4ms/step - loss: 1.8066 - accuracy: 0.3050 - val_loss: 1.6105 - val_accuracy: 0.5458\n",
      "Epoch 9/1000\n",
      " 1/25 [>.............................] - ETA: 0s - loss: 1.6906 - accuracy: 0.4062\n",
      "Epoch 9: saving model to model/keypoint_classifier\\keypoint_classifier.hdf5\n",
      "25/25 [==============================] - 0s 4ms/step - loss: 1.7664 - accuracy: 0.3155 - val_loss: 1.5564 - val_accuracy: 0.4876\n",
      "Epoch 10/1000\n",
      " 1/25 [>.............................] - ETA: 0s - loss: 1.7978 - accuracy: 0.2969\n",
      "Epoch 10: saving model to model/keypoint_classifier\\keypoint_classifier.hdf5\n",
      "25/25 [==============================] - 0s 4ms/step - loss: 1.7113 - accuracy: 0.3333 - val_loss: 1.5006 - val_accuracy: 0.5448\n",
      "Epoch 11/1000\n",
      " 1/25 [>.............................] - ETA: 0s - loss: 1.7374 - accuracy: 0.3203\n",
      "Epoch 11: saving model to model/keypoint_classifier\\keypoint_classifier.hdf5\n",
      "25/25 [==============================] - 0s 4ms/step - loss: 1.6657 - accuracy: 0.3486 - val_loss: 1.4470 - val_accuracy: 0.5086\n",
      "Epoch 12/1000\n",
      " 1/25 [>.............................] - ETA: 0s - loss: 1.6872 - accuracy: 0.3516\n",
      "Epoch 12: saving model to model/keypoint_classifier\\keypoint_classifier.hdf5\n",
      "25/25 [==============================] - 0s 4ms/step - loss: 1.6353 - accuracy: 0.3712 - val_loss: 1.4006 - val_accuracy: 0.5181\n",
      "Epoch 13/1000\n",
      " 1/25 [>.............................] - ETA: 0s - loss: 1.6443 - accuracy: 0.2891\n",
      "Epoch 13: saving model to model/keypoint_classifier\\keypoint_classifier.hdf5\n",
      "25/25 [==============================] - 0s 4ms/step - loss: 1.5886 - accuracy: 0.3756 - val_loss: 1.3650 - val_accuracy: 0.5191\n",
      "Epoch 14/1000\n",
      " 1/25 [>.............................] - ETA: 0s - loss: 1.4804 - accuracy: 0.4766\n",
      "Epoch 14: saving model to model/keypoint_classifier\\keypoint_classifier.hdf5\n",
      "25/25 [==============================] - 0s 4ms/step - loss: 1.5627 - accuracy: 0.3810 - val_loss: 1.3311 - val_accuracy: 0.5115\n",
      "Epoch 15/1000\n",
      " 1/25 [>.............................] - ETA: 0s - loss: 1.4951 - accuracy: 0.4141\n",
      "Epoch 15: saving model to model/keypoint_classifier\\keypoint_classifier.hdf5\n",
      "25/25 [==============================] - 0s 4ms/step - loss: 1.5274 - accuracy: 0.3944 - val_loss: 1.2941 - val_accuracy: 0.5544\n",
      "Epoch 16/1000\n",
      " 1/25 [>.............................] - ETA: 0s - loss: 1.5699 - accuracy: 0.3594\n",
      "Epoch 16: saving model to model/keypoint_classifier\\keypoint_classifier.hdf5\n",
      "25/25 [==============================] - 0s 4ms/step - loss: 1.5110 - accuracy: 0.4163 - val_loss: 1.2577 - val_accuracy: 0.5887\n",
      "Epoch 17/1000\n",
      " 1/25 [>.............................] - ETA: 0s - loss: 1.6538 - accuracy: 0.3516\n",
      "Epoch 17: saving model to model/keypoint_classifier\\keypoint_classifier.hdf5\n",
      "25/25 [==============================] - 0s 4ms/step - loss: 1.5081 - accuracy: 0.4119 - val_loss: 1.2401 - val_accuracy: 0.5916\n",
      "Epoch 18/1000\n",
      " 1/25 [>.............................] - ETA: 0s - loss: 1.3881 - accuracy: 0.4141\n",
      "Epoch 18: saving model to model/keypoint_classifier\\keypoint_classifier.hdf5\n",
      "25/25 [==============================] - 0s 4ms/step - loss: 1.4616 - accuracy: 0.4345 - val_loss: 1.2132 - val_accuracy: 0.6221\n",
      "Epoch 19/1000\n",
      " 1/25 [>.............................] - ETA: 0s - loss: 1.4987 - accuracy: 0.4219\n",
      "Epoch 19: saving model to model/keypoint_classifier\\keypoint_classifier.hdf5\n",
      "25/25 [==============================] - 0s 4ms/step - loss: 1.4450 - accuracy: 0.4377 - val_loss: 1.1814 - val_accuracy: 0.6460\n",
      "Epoch 20/1000\n",
      "24/25 [===========================>..] - ETA: 0s - loss: 1.4346 - accuracy: 0.4551\n",
      "Epoch 20: saving model to model/keypoint_classifier\\keypoint_classifier.hdf5\n",
      "25/25 [==============================] - 0s 5ms/step - loss: 1.4325 - accuracy: 0.4545 - val_loss: 1.1605 - val_accuracy: 0.6870\n",
      "Epoch 21/1000\n",
      " 1/25 [>.............................] - ETA: 0s - loss: 1.3402 - accuracy: 0.5000\n",
      "Epoch 21: saving model to model/keypoint_classifier\\keypoint_classifier.hdf5\n",
      "25/25 [==============================] - 0s 4ms/step - loss: 1.4135 - accuracy: 0.4529 - val_loss: 1.1379 - val_accuracy: 0.7118\n",
      "Epoch 22/1000\n",
      " 1/25 [>.............................] - ETA: 0s - loss: 1.3953 - accuracy: 0.4062\n",
      "Epoch 22: saving model to model/keypoint_classifier\\keypoint_classifier.hdf5\n",
      "25/25 [==============================] - 0s 4ms/step - loss: 1.3880 - accuracy: 0.4558 - val_loss: 1.1184 - val_accuracy: 0.7176\n",
      "Epoch 23/1000\n",
      " 1/25 [>.............................] - ETA: 0s - loss: 1.3166 - accuracy: 0.4688\n",
      "Epoch 23: saving model to model/keypoint_classifier\\keypoint_classifier.hdf5\n",
      "25/25 [==============================] - 0s 4ms/step - loss: 1.3818 - accuracy: 0.4726 - val_loss: 1.0900 - val_accuracy: 0.7090\n",
      "Epoch 24/1000\n",
      " 1/25 [>.............................] - ETA: 0s - loss: 1.3649 - accuracy: 0.4141\n",
      "Epoch 24: saving model to model/keypoint_classifier\\keypoint_classifier.hdf5\n",
      "25/25 [==============================] - 0s 4ms/step - loss: 1.3506 - accuracy: 0.4768 - val_loss: 1.0577 - val_accuracy: 0.7519\n",
      "Epoch 25/1000\n",
      " 1/25 [>.............................] - ETA: 0s - loss: 1.2662 - accuracy: 0.5078\n",
      "Epoch 25: saving model to model/keypoint_classifier\\keypoint_classifier.hdf5\n",
      "25/25 [==============================] - 0s 4ms/step - loss: 1.3472 - accuracy: 0.4793 - val_loss: 1.0382 - val_accuracy: 0.7834\n",
      "Epoch 26/1000\n",
      " 1/25 [>.............................] - ETA: 0s - loss: 1.2763 - accuracy: 0.5703\n",
      "Epoch 26: saving model to model/keypoint_classifier\\keypoint_classifier.hdf5\n",
      "25/25 [==============================] - 0s 4ms/step - loss: 1.3385 - accuracy: 0.4975 - val_loss: 1.0223 - val_accuracy: 0.7968\n",
      "Epoch 27/1000\n",
      " 1/25 [>.............................] - ETA: 0s - loss: 1.2405 - accuracy: 0.5547\n",
      "Epoch 27: saving model to model/keypoint_classifier\\keypoint_classifier.hdf5\n",
      "25/25 [==============================] - 0s 4ms/step - loss: 1.3076 - accuracy: 0.4981 - val_loss: 0.9911 - val_accuracy: 0.8158\n",
      "Epoch 28/1000\n",
      " 1/25 [>.............................] - ETA: 0s - loss: 1.3285 - accuracy: 0.4922\n",
      "Epoch 28: saving model to model/keypoint_classifier\\keypoint_classifier.hdf5\n",
      "25/25 [==============================] - 0s 4ms/step - loss: 1.2919 - accuracy: 0.4981 - val_loss: 0.9633 - val_accuracy: 0.8511\n",
      "Epoch 29/1000\n",
      " 1/25 [>.............................] - ETA: 0s - loss: 1.3178 - accuracy: 0.5312\n",
      "Epoch 29: saving model to model/keypoint_classifier\\keypoint_classifier.hdf5\n",
      "25/25 [==============================] - 0s 4ms/step - loss: 1.2723 - accuracy: 0.5137 - val_loss: 0.9431 - val_accuracy: 0.8397\n",
      "Epoch 30/1000\n",
      " 1/25 [>.............................] - ETA: 0s - loss: 1.2987 - accuracy: 0.4609\n",
      "Epoch 30: saving model to model/keypoint_classifier\\keypoint_classifier.hdf5\n",
      "25/25 [==============================] - 0s 4ms/step - loss: 1.2532 - accuracy: 0.5156 - val_loss: 0.9102 - val_accuracy: 0.8531\n",
      "Epoch 31/1000\n",
      " 1/25 [>.............................] - ETA: 0s - loss: 1.1980 - accuracy: 0.5469\n",
      "Epoch 31: saving model to model/keypoint_classifier\\keypoint_classifier.hdf5\n",
      "25/25 [==============================] - 0s 4ms/step - loss: 1.2296 - accuracy: 0.5169 - val_loss: 0.8993 - val_accuracy: 0.8693\n",
      "Epoch 32/1000\n",
      " 1/25 [>.............................] - ETA: 0s - loss: 1.3135 - accuracy: 0.4531\n",
      "Epoch 32: saving model to model/keypoint_classifier\\keypoint_classifier.hdf5\n",
      "25/25 [==============================] - 0s 4ms/step - loss: 1.2373 - accuracy: 0.5213 - val_loss: 0.8802 - val_accuracy: 0.8387\n",
      "Epoch 33/1000\n",
      " 1/25 [>.............................] - ETA: 0s - loss: 1.1850 - accuracy: 0.5469\n",
      "Epoch 33: saving model to model/keypoint_classifier\\keypoint_classifier.hdf5\n",
      "25/25 [==============================] - 0s 4ms/step - loss: 1.2474 - accuracy: 0.5127 - val_loss: 0.8566 - val_accuracy: 0.8540\n",
      "Epoch 34/1000\n",
      " 1/25 [>.............................] - ETA: 0s - loss: 1.1922 - accuracy: 0.5391\n",
      "Epoch 34: saving model to model/keypoint_classifier\\keypoint_classifier.hdf5\n",
      "25/25 [==============================] - 0s 4ms/step - loss: 1.1943 - accuracy: 0.5557 - val_loss: 0.8407 - val_accuracy: 0.8693\n",
      "Epoch 35/1000\n",
      " 1/25 [>.............................] - ETA: 0s - loss: 1.1041 - accuracy: 0.5703\n",
      "Epoch 35: saving model to model/keypoint_classifier\\keypoint_classifier.hdf5\n",
      "25/25 [==============================] - 0s 4ms/step - loss: 1.1717 - accuracy: 0.5547 - val_loss: 0.8132 - val_accuracy: 0.8521\n",
      "Epoch 36/1000\n",
      " 1/25 [>.............................] - ETA: 0s - loss: 1.1228 - accuracy: 0.5547\n",
      "Epoch 36: saving model to model/keypoint_classifier\\keypoint_classifier.hdf5\n",
      "25/25 [==============================] - 0s 4ms/step - loss: 1.1864 - accuracy: 0.5642 - val_loss: 0.7880 - val_accuracy: 0.8588\n",
      "Epoch 37/1000\n",
      " 1/25 [>.............................] - ETA: 0s - loss: 1.0615 - accuracy: 0.6250\n",
      "Epoch 37: saving model to model/keypoint_classifier\\keypoint_classifier.hdf5\n",
      "25/25 [==============================] - 0s 4ms/step - loss: 1.1535 - accuracy: 0.5646 - val_loss: 0.7822 - val_accuracy: 0.8569\n",
      "Epoch 38/1000\n",
      " 1/25 [>.............................] - ETA: 0s - loss: 1.0666 - accuracy: 0.5625\n",
      "Epoch 38: saving model to model/keypoint_classifier\\keypoint_classifier.hdf5\n",
      "25/25 [==============================] - 0s 4ms/step - loss: 1.1238 - accuracy: 0.5751 - val_loss: 0.7582 - val_accuracy: 0.8779\n",
      "Epoch 39/1000\n",
      " 1/25 [>.............................] - ETA: 0s - loss: 1.2156 - accuracy: 0.5469\n",
      "Epoch 39: saving model to model/keypoint_classifier\\keypoint_classifier.hdf5\n",
      "25/25 [==============================] - 0s 4ms/step - loss: 1.1456 - accuracy: 0.5677 - val_loss: 0.7440 - val_accuracy: 0.8569\n",
      "Epoch 40/1000\n",
      " 1/25 [>.............................] - ETA: 0s - loss: 1.0030 - accuracy: 0.6094\n",
      "Epoch 40: saving model to model/keypoint_classifier\\keypoint_classifier.hdf5\n",
      "25/25 [==============================] - 0s 4ms/step - loss: 1.1173 - accuracy: 0.5716 - val_loss: 0.7314 - val_accuracy: 0.8750\n",
      "Epoch 41/1000\n",
      " 1/25 [>.............................] - ETA: 0s - loss: 1.1378 - accuracy: 0.5781\n",
      "Epoch 41: saving model to model/keypoint_classifier\\keypoint_classifier.hdf5\n",
      "25/25 [==============================] - 0s 4ms/step - loss: 1.1177 - accuracy: 0.5859 - val_loss: 0.7230 - val_accuracy: 0.8826\n",
      "Epoch 42/1000\n",
      " 1/25 [>.............................] - ETA: 0s - loss: 1.2166 - accuracy: 0.5469\n",
      "Epoch 42: saving model to model/keypoint_classifier\\keypoint_classifier.hdf5\n",
      "25/25 [==============================] - 0s 4ms/step - loss: 1.1087 - accuracy: 0.5884 - val_loss: 0.7147 - val_accuracy: 0.8483\n",
      "Epoch 43/1000\n",
      " 1/25 [>.............................] - ETA: 0s - loss: 1.0565 - accuracy: 0.5703\n",
      "Epoch 43: saving model to model/keypoint_classifier\\keypoint_classifier.hdf5\n",
      "25/25 [==============================] - 0s 4ms/step - loss: 1.1106 - accuracy: 0.5837 - val_loss: 0.7006 - val_accuracy: 0.8702\n",
      "Epoch 44/1000\n",
      " 1/25 [>.............................] - ETA: 0s - loss: 1.1098 - accuracy: 0.6172\n",
      "Epoch 44: saving model to model/keypoint_classifier\\keypoint_classifier.hdf5\n",
      "25/25 [==============================] - 0s 4ms/step - loss: 1.0773 - accuracy: 0.5970 - val_loss: 0.6838 - val_accuracy: 0.8779\n",
      "Epoch 45/1000\n",
      " 1/25 [>.............................] - ETA: 0s - loss: 0.9273 - accuracy: 0.6875\n",
      "Epoch 45: saving model to model/keypoint_classifier\\keypoint_classifier.hdf5\n",
      "25/25 [==============================] - 0s 4ms/step - loss: 1.0842 - accuracy: 0.5957 - val_loss: 0.6800 - val_accuracy: 0.8540\n",
      "Epoch 46/1000\n",
      " 1/25 [>.............................] - ETA: 0s - loss: 1.0087 - accuracy: 0.6406\n",
      "Epoch 46: saving model to model/keypoint_classifier\\keypoint_classifier.hdf5\n",
      "25/25 [==============================] - 0s 4ms/step - loss: 1.0974 - accuracy: 0.5833 - val_loss: 0.6757 - val_accuracy: 0.8635\n",
      "Epoch 47/1000\n",
      " 1/25 [>.............................] - ETA: 0s - loss: 0.9791 - accuracy: 0.6484\n",
      "Epoch 47: saving model to model/keypoint_classifier\\keypoint_classifier.hdf5\n",
      "25/25 [==============================] - 0s 4ms/step - loss: 1.0593 - accuracy: 0.6053 - val_loss: 0.6635 - val_accuracy: 0.8836\n",
      "Epoch 48/1000\n",
      " 1/25 [>.............................] - ETA: 0s - loss: 1.1413 - accuracy: 0.5938\n",
      "Epoch 48: saving model to model/keypoint_classifier\\keypoint_classifier.hdf5\n",
      "25/25 [==============================] - 0s 4ms/step - loss: 1.0666 - accuracy: 0.6072 - val_loss: 0.6583 - val_accuracy: 0.8788\n",
      "Epoch 49/1000\n",
      " 1/25 [>.............................] - ETA: 0s - loss: 0.9928 - accuracy: 0.6016\n",
      "Epoch 49: saving model to model/keypoint_classifier\\keypoint_classifier.hdf5\n",
      "25/25 [==============================] - 0s 4ms/step - loss: 1.0386 - accuracy: 0.6008 - val_loss: 0.6420 - val_accuracy: 0.8760\n",
      "Epoch 50/1000\n",
      " 1/25 [>.............................] - ETA: 0s - loss: 1.0350 - accuracy: 0.6016\n",
      "Epoch 50: saving model to model/keypoint_classifier\\keypoint_classifier.hdf5\n",
      "25/25 [==============================] - 0s 4ms/step - loss: 1.0196 - accuracy: 0.6196 - val_loss: 0.6239 - val_accuracy: 0.8836\n",
      "Epoch 51/1000\n",
      " 1/25 [>.............................] - ETA: 0s - loss: 1.0634 - accuracy: 0.6328\n",
      "Epoch 51: saving model to model/keypoint_classifier\\keypoint_classifier.hdf5\n",
      "25/25 [==============================] - 0s 4ms/step - loss: 1.0602 - accuracy: 0.6088 - val_loss: 0.6315 - val_accuracy: 0.8826\n",
      "Epoch 52/1000\n",
      " 1/25 [>.............................] - ETA: 0s - loss: 0.9268 - accuracy: 0.6562\n",
      "Epoch 52: saving model to model/keypoint_classifier\\keypoint_classifier.hdf5\n",
      "25/25 [==============================] - 0s 4ms/step - loss: 1.0329 - accuracy: 0.6031 - val_loss: 0.6237 - val_accuracy: 0.8645\n",
      "Epoch 53/1000\n",
      " 1/25 [>.............................] - ETA: 0s - loss: 1.0232 - accuracy: 0.5703\n",
      "Epoch 53: saving model to model/keypoint_classifier\\keypoint_classifier.hdf5\n",
      "25/25 [==============================] - 0s 4ms/step - loss: 1.0377 - accuracy: 0.6126 - val_loss: 0.6126 - val_accuracy: 0.8807\n",
      "Epoch 54/1000\n",
      " 1/25 [>.............................] - ETA: 0s - loss: 1.1536 - accuracy: 0.5156\n",
      "Epoch 54: saving model to model/keypoint_classifier\\keypoint_classifier.hdf5\n",
      "25/25 [==============================] - 0s 4ms/step - loss: 1.0279 - accuracy: 0.6145 - val_loss: 0.6155 - val_accuracy: 0.8607\n",
      "Epoch 55/1000\n",
      " 1/25 [>.............................] - ETA: 0s - loss: 1.0202 - accuracy: 0.6719\n",
      "Epoch 55: saving model to model/keypoint_classifier\\keypoint_classifier.hdf5\n",
      "25/25 [==============================] - 0s 4ms/step - loss: 1.0361 - accuracy: 0.6116 - val_loss: 0.6079 - val_accuracy: 0.8779\n",
      "Epoch 56/1000\n",
      " 1/25 [>.............................] - ETA: 0s - loss: 1.1709 - accuracy: 0.6172\n",
      "Epoch 56: saving model to model/keypoint_classifier\\keypoint_classifier.hdf5\n",
      "25/25 [==============================] - 0s 4ms/step - loss: 1.0141 - accuracy: 0.6396 - val_loss: 0.6037 - val_accuracy: 0.8788\n",
      "Epoch 57/1000\n",
      " 1/25 [>.............................] - ETA: 0s - loss: 1.0490 - accuracy: 0.6016\n",
      "Epoch 57: saving model to model/keypoint_classifier\\keypoint_classifier.hdf5\n",
      "25/25 [==============================] - 0s 4ms/step - loss: 1.0057 - accuracy: 0.6177 - val_loss: 0.5873 - val_accuracy: 0.8607\n",
      "Epoch 58/1000\n",
      " 1/25 [>.............................] - ETA: 0s - loss: 1.0471 - accuracy: 0.5547\n",
      "Epoch 58: saving model to model/keypoint_classifier\\keypoint_classifier.hdf5\n",
      "25/25 [==============================] - 0s 4ms/step - loss: 0.9870 - accuracy: 0.6275 - val_loss: 0.5820 - val_accuracy: 0.8597\n",
      "Epoch 59/1000\n",
      " 1/25 [>.............................] - ETA: 0s - loss: 1.2034 - accuracy: 0.5547\n",
      "Epoch 59: saving model to model/keypoint_classifier\\keypoint_classifier.hdf5\n",
      "25/25 [==============================] - 0s 4ms/step - loss: 0.9857 - accuracy: 0.6269 - val_loss: 0.5726 - val_accuracy: 0.8836\n",
      "Epoch 60/1000\n",
      " 1/25 [>.............................] - ETA: 0s - loss: 0.9836 - accuracy: 0.5781\n",
      "Epoch 60: saving model to model/keypoint_classifier\\keypoint_classifier.hdf5\n",
      "25/25 [==============================] - 0s 4ms/step - loss: 0.9742 - accuracy: 0.6330 - val_loss: 0.5650 - val_accuracy: 0.8950\n",
      "Epoch 61/1000\n",
      " 1/25 [>.............................] - ETA: 0s - loss: 1.0294 - accuracy: 0.6250\n",
      "Epoch 61: saving model to model/keypoint_classifier\\keypoint_classifier.hdf5\n",
      "25/25 [==============================] - 0s 4ms/step - loss: 0.9732 - accuracy: 0.6314 - val_loss: 0.5638 - val_accuracy: 0.8912\n",
      "Epoch 62/1000\n",
      " 1/25 [>.............................] - ETA: 0s - loss: 0.9399 - accuracy: 0.6641\n",
      "Epoch 62: saving model to model/keypoint_classifier\\keypoint_classifier.hdf5\n",
      "25/25 [==============================] - 0s 4ms/step - loss: 1.0081 - accuracy: 0.6205 - val_loss: 0.5703 - val_accuracy: 0.8874\n",
      "Epoch 63/1000\n",
      "25/25 [==============================] - ETA: 0s - loss: 0.9760 - accuracy: 0.6415\n",
      "Epoch 63: saving model to model/keypoint_classifier\\keypoint_classifier.hdf5\n",
      "25/25 [==============================] - 0s 5ms/step - loss: 0.9760 - accuracy: 0.6415 - val_loss: 0.5637 - val_accuracy: 0.8855\n",
      "Epoch 64/1000\n",
      " 1/25 [>.............................] - ETA: 0s - loss: 0.9590 - accuracy: 0.6641\n",
      "Epoch 64: saving model to model/keypoint_classifier\\keypoint_classifier.hdf5\n",
      "25/25 [==============================] - 0s 4ms/step - loss: 0.9832 - accuracy: 0.6428 - val_loss: 0.5505 - val_accuracy: 0.8903\n",
      "Epoch 65/1000\n",
      " 1/25 [>.............................] - ETA: 0s - loss: 0.9080 - accuracy: 0.7188\n",
      "Epoch 65: saving model to model/keypoint_classifier\\keypoint_classifier.hdf5\n",
      "25/25 [==============================] - 0s 4ms/step - loss: 0.9593 - accuracy: 0.6352 - val_loss: 0.5385 - val_accuracy: 0.8903\n",
      "Epoch 66/1000\n",
      " 1/25 [>.............................] - ETA: 0s - loss: 1.0122 - accuracy: 0.6406\n",
      "Epoch 66: saving model to model/keypoint_classifier\\keypoint_classifier.hdf5\n",
      "25/25 [==============================] - 0s 4ms/step - loss: 0.9682 - accuracy: 0.6406 - val_loss: 0.5467 - val_accuracy: 0.8731\n",
      "Epoch 67/1000\n",
      " 1/25 [>.............................] - ETA: 0s - loss: 1.0554 - accuracy: 0.5703\n",
      "Epoch 67: saving model to model/keypoint_classifier\\keypoint_classifier.hdf5\n",
      "25/25 [==============================] - 0s 4ms/step - loss: 0.9561 - accuracy: 0.6415 - val_loss: 0.5445 - val_accuracy: 0.9084\n",
      "Epoch 68/1000\n",
      " 1/25 [>.............................] - ETA: 0s - loss: 1.0346 - accuracy: 0.6016\n",
      "Epoch 68: saving model to model/keypoint_classifier\\keypoint_classifier.hdf5\n",
      "25/25 [==============================] - 0s 4ms/step - loss: 0.9625 - accuracy: 0.6399 - val_loss: 0.5472 - val_accuracy: 0.8721\n",
      "Epoch 69/1000\n",
      " 1/25 [>.............................] - ETA: 0s - loss: 0.8986 - accuracy: 0.6875\n",
      "Epoch 69: saving model to model/keypoint_classifier\\keypoint_classifier.hdf5\n",
      "25/25 [==============================] - 0s 4ms/step - loss: 0.9730 - accuracy: 0.6501 - val_loss: 0.5426 - val_accuracy: 0.8998\n",
      "Epoch 70/1000\n",
      " 1/25 [>.............................] - ETA: 0s - loss: 1.0007 - accuracy: 0.5938\n",
      "Epoch 70: saving model to model/keypoint_classifier\\keypoint_classifier.hdf5\n",
      "25/25 [==============================] - 0s 4ms/step - loss: 0.9594 - accuracy: 0.6422 - val_loss: 0.5410 - val_accuracy: 0.8893\n",
      "Epoch 71/1000\n",
      " 1/25 [>.............................] - ETA: 0s - loss: 1.0943 - accuracy: 0.5547\n",
      "Epoch 71: saving model to model/keypoint_classifier\\keypoint_classifier.hdf5\n",
      "25/25 [==============================] - 0s 4ms/step - loss: 0.9619 - accuracy: 0.6431 - val_loss: 0.5362 - val_accuracy: 0.8989\n",
      "Epoch 72/1000\n",
      " 1/25 [>.............................] - ETA: 0s - loss: 0.9941 - accuracy: 0.6172\n",
      "Epoch 72: saving model to model/keypoint_classifier\\keypoint_classifier.hdf5\n",
      "25/25 [==============================] - 0s 4ms/step - loss: 0.9590 - accuracy: 0.6498 - val_loss: 0.5356 - val_accuracy: 0.8922\n",
      "Epoch 73/1000\n",
      "24/25 [===========================>..] - ETA: 0s - loss: 0.9533 - accuracy: 0.6481\n",
      "Epoch 73: saving model to model/keypoint_classifier\\keypoint_classifier.hdf5\n",
      "25/25 [==============================] - 0s 5ms/step - loss: 0.9486 - accuracy: 0.6498 - val_loss: 0.5261 - val_accuracy: 0.8893\n",
      "Epoch 74/1000\n",
      " 1/25 [>.............................] - ETA: 0s - loss: 1.1033 - accuracy: 0.6562\n",
      "Epoch 74: saving model to model/keypoint_classifier\\keypoint_classifier.hdf5\n",
      "25/25 [==============================] - 0s 4ms/step - loss: 0.9693 - accuracy: 0.6412 - val_loss: 0.5217 - val_accuracy: 0.8989\n",
      "Epoch 75/1000\n",
      " 1/25 [>.............................] - ETA: 0s - loss: 0.7849 - accuracy: 0.7422\n",
      "Epoch 75: saving model to model/keypoint_classifier\\keypoint_classifier.hdf5\n",
      "25/25 [==============================] - 0s 4ms/step - loss: 0.9488 - accuracy: 0.6460 - val_loss: 0.5140 - val_accuracy: 0.9027\n",
      "Epoch 76/1000\n",
      " 1/25 [>.............................] - ETA: 0s - loss: 0.9804 - accuracy: 0.6641\n",
      "Epoch 76: saving model to model/keypoint_classifier\\keypoint_classifier.hdf5\n",
      "25/25 [==============================] - 0s 4ms/step - loss: 0.9545 - accuracy: 0.6546 - val_loss: 0.5097 - val_accuracy: 0.8998\n",
      "Epoch 77/1000\n",
      " 1/25 [>.............................] - ETA: 0s - loss: 1.0210 - accuracy: 0.6406\n",
      "Epoch 77: saving model to model/keypoint_classifier\\keypoint_classifier.hdf5\n",
      "25/25 [==============================] - 0s 4ms/step - loss: 0.9546 - accuracy: 0.6495 - val_loss: 0.5111 - val_accuracy: 0.8960\n",
      "Epoch 78/1000\n",
      " 1/25 [>.............................] - ETA: 0s - loss: 0.7995 - accuracy: 0.6719\n",
      "Epoch 78: saving model to model/keypoint_classifier\\keypoint_classifier.hdf5\n",
      "25/25 [==============================] - 0s 4ms/step - loss: 0.9346 - accuracy: 0.6565 - val_loss: 0.5088 - val_accuracy: 0.9151\n",
      "Epoch 79/1000\n",
      " 1/25 [>.............................] - ETA: 0s - loss: 0.9286 - accuracy: 0.6562\n",
      "Epoch 79: saving model to model/keypoint_classifier\\keypoint_classifier.hdf5\n",
      "25/25 [==============================] - 0s 4ms/step - loss: 0.9429 - accuracy: 0.6514 - val_loss: 0.5105 - val_accuracy: 0.8903\n",
      "Epoch 80/1000\n",
      " 1/25 [>.............................] - ETA: 0s - loss: 0.8879 - accuracy: 0.6719\n",
      "Epoch 80: saving model to model/keypoint_classifier\\keypoint_classifier.hdf5\n",
      "25/25 [==============================] - 0s 4ms/step - loss: 0.9435 - accuracy: 0.6574 - val_loss: 0.5063 - val_accuracy: 0.9103\n",
      "Epoch 81/1000\n",
      " 1/25 [>.............................] - ETA: 0s - loss: 1.0857 - accuracy: 0.5703\n",
      "Epoch 81: saving model to model/keypoint_classifier\\keypoint_classifier.hdf5\n",
      "25/25 [==============================] - 0s 4ms/step - loss: 0.9264 - accuracy: 0.6501 - val_loss: 0.5098 - val_accuracy: 0.9179\n",
      "Epoch 82/1000\n",
      "24/25 [===========================>..] - ETA: 0s - loss: 0.9149 - accuracy: 0.6631\n",
      "Epoch 82: saving model to model/keypoint_classifier\\keypoint_classifier.hdf5\n",
      "25/25 [==============================] - 0s 5ms/step - loss: 0.9204 - accuracy: 0.6619 - val_loss: 0.4962 - val_accuracy: 0.8969\n",
      "Epoch 83/1000\n",
      " 1/25 [>.............................] - ETA: 0s - loss: 0.9401 - accuracy: 0.6484\n",
      "Epoch 83: saving model to model/keypoint_classifier\\keypoint_classifier.hdf5\n",
      "25/25 [==============================] - 0s 4ms/step - loss: 0.9031 - accuracy: 0.6562 - val_loss: 0.4887 - val_accuracy: 0.8969\n",
      "Epoch 84/1000\n",
      " 1/25 [>.............................] - ETA: 0s - loss: 1.0669 - accuracy: 0.6250\n",
      "Epoch 84: saving model to model/keypoint_classifier\\keypoint_classifier.hdf5\n",
      "25/25 [==============================] - 0s 4ms/step - loss: 0.9510 - accuracy: 0.6390 - val_loss: 0.4950 - val_accuracy: 0.8931\n",
      "Epoch 85/1000\n",
      " 1/25 [>.............................] - ETA: 0s - loss: 0.8810 - accuracy: 0.7266\n",
      "Epoch 85: saving model to model/keypoint_classifier\\keypoint_classifier.hdf5\n",
      "25/25 [==============================] - 0s 4ms/step - loss: 0.8946 - accuracy: 0.6686 - val_loss: 0.4842 - val_accuracy: 0.9027\n",
      "Epoch 86/1000\n",
      " 1/25 [>.............................] - ETA: 0s - loss: 0.8669 - accuracy: 0.7188\n",
      "Epoch 86: saving model to model/keypoint_classifier\\keypoint_classifier.hdf5\n",
      "25/25 [==============================] - 0s 4ms/step - loss: 0.9476 - accuracy: 0.6466 - val_loss: 0.4867 - val_accuracy: 0.8950\n",
      "Epoch 87/1000\n",
      " 1/25 [>.............................] - ETA: 0s - loss: 1.0359 - accuracy: 0.6094\n",
      "Epoch 87: saving model to model/keypoint_classifier\\keypoint_classifier.hdf5\n",
      "25/25 [==============================] - 0s 4ms/step - loss: 0.9277 - accuracy: 0.6628 - val_loss: 0.4969 - val_accuracy: 0.9027\n",
      "Epoch 88/1000\n",
      " 1/25 [>.............................] - ETA: 0s - loss: 0.9305 - accuracy: 0.6328\n",
      "Epoch 88: saving model to model/keypoint_classifier\\keypoint_classifier.hdf5\n",
      "25/25 [==============================] - 0s 4ms/step - loss: 0.9037 - accuracy: 0.6539 - val_loss: 0.4839 - val_accuracy: 0.9132\n"
     ]
    }
   ],
   "source": [
    "model.fit(\n",
    "    X_train,\n",
    "    y_train,\n",
    "    epochs=1000,\n",
    "    batch_size=128,\n",
    "    validation_data=(X_test, y_test),\n",
    "    callbacks=[cp_callback, es_callback]\n",
    ")"
   ]
  },
  {
   "cell_type": "code",
   "execution_count": null,
   "metadata": {},
   "outputs": [],
   "source": [
    "# モデル評価\n",
    "val_loss, val_acc = model.evaluate(X_test, y_test, batch_size=128)"
   ]
  },
  {
   "cell_type": "code",
   "execution_count": null,
   "metadata": {},
   "outputs": [],
   "source": [
    "# 保存したモデルのロード\n",
    "model = tf.keras.models.load_model(model_save_path)"
   ]
  },
  {
   "cell_type": "code",
   "execution_count": null,
   "metadata": {},
   "outputs": [],
   "source": [
    "# 推論テスト\n",
    "predict_result = model.predict(np.array([X_test[0]]))\n",
    "print(np.squeeze(predict_result))\n",
    "print(np.argmax(np.squeeze(predict_result)))"
   ]
  },
  {
   "cell_type": "markdown",
   "metadata": {},
   "source": [
    "# 混同行列"
   ]
  },
  {
   "cell_type": "code",
   "execution_count": null,
   "metadata": {},
   "outputs": [],
   "source": [
    "import pandas as pd\n",
    "import seaborn as sns\n",
    "import matplotlib.pyplot as plt\n",
    "from sklearn.metrics import confusion_matrix, classification_report\n",
    "\n",
    "def print_confusion_matrix(y_true, y_pred, report=True):\n",
    "    labels = sorted(list(set(y_true)))\n",
    "    cmx_data = confusion_matrix(y_true, y_pred, labels=labels)\n",
    "    \n",
    "    df_cmx = pd.DataFrame(cmx_data, index=labels, columns=labels)\n",
    " \n",
    "    fig, ax = plt.subplots(figsize=(7, 6))\n",
    "    sns.heatmap(df_cmx, annot=True, fmt='g' ,square=False)\n",
    "    ax.set_ylim(len(set(y_true)), 0)\n",
    "    plt.show()\n",
    "    \n",
    "    if report:\n",
    "        print('Classification Report')\n",
    "        print(classification_report(y_true, y_pred))\n",
    "\n",
    "Y_pred = model.predict(X_test)\n",
    "y_pred = np.argmax(Y_pred, axis=1)\n",
    "\n",
    "print_confusion_matrix(y_test, y_pred)"
   ]
  },
  {
   "cell_type": "markdown",
   "metadata": {},
   "source": [
    "# Tensorflow-Lite用のモデルへ変換"
   ]
  },
  {
   "cell_type": "code",
   "execution_count": null,
   "metadata": {},
   "outputs": [],
   "source": [
    "# 推論専用のモデルとして保存\n",
    "model.save('my_model.keras')"
   ]
  },
  {
   "cell_type": "code",
   "execution_count": null,
   "metadata": {},
   "outputs": [],
   "source": [
    "# モデルを変換(量子化)\n",
    "tflite_save_path = 'model/keypoint_classifier/keypoint_classifier.tflite'\n",
    "\n",
    "converter = tf.lite.TFLiteConverter.from_keras_model(model)\n",
    "converter.optimizations = [tf.lite.Optimize.DEFAULT]\n",
    "tflite_quantized_model = converter.convert()\n",
    "\n",
    "open(tflite_save_path, 'wb').write(tflite_quantized_model)"
   ]
  },
  {
   "cell_type": "markdown",
   "metadata": {},
   "source": [
    "# 推論テスト"
   ]
  },
  {
   "cell_type": "code",
   "execution_count": null,
   "metadata": {},
   "outputs": [],
   "source": [
    "interpreter = tf.lite.Interpreter(model_path=tflite_save_path)\n",
    "interpreter.allocate_tensors()"
   ]
  },
  {
   "cell_type": "code",
   "execution_count": null,
   "metadata": {},
   "outputs": [],
   "source": [
    "# 入出力テンソルを取得\n",
    "input_details = interpreter.get_input_details()\n",
    "output_details = interpreter.get_output_details()"
   ]
  },
  {
   "cell_type": "code",
   "execution_count": null,
   "metadata": {},
   "outputs": [],
   "source": [
    "interpreter.set_tensor(input_details[0]['index'], np.array([X_test[0]]))"
   ]
  },
  {
   "cell_type": "code",
   "execution_count": null,
   "metadata": {
    "scrolled": true
   },
   "outputs": [],
   "source": [
    "%%time\n",
    "# 推論実施\n",
    "interpreter.invoke()\n",
    "tflite_results = interpreter.get_tensor(output_details[0]['index'])"
   ]
  },
  {
   "cell_type": "code",
   "execution_count": null,
   "metadata": {},
   "outputs": [],
   "source": [
    "print(np.squeeze(tflite_results))\n",
    "print(np.argmax(np.squeeze(tflite_results)))"
   ]
  }
 ],
 "metadata": {
  "kernelspec": {
   "display_name": "Python 3 (ipykernel)",
   "language": "python",
   "name": "python3"
  },
  "language_info": {
   "codemirror_mode": {
    "name": "ipython",
    "version": 3
   },
   "file_extension": ".py",
   "mimetype": "text/x-python",
   "name": "python",
   "nbconvert_exporter": "python",
   "pygments_lexer": "ipython3",
   "version": "3.11.8"
  }
 },
 "nbformat": 4,
 "nbformat_minor": 4
}
